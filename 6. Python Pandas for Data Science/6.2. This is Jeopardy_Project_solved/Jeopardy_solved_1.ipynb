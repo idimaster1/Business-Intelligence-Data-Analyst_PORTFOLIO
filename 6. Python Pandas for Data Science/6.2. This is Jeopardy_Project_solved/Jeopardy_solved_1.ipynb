{
 "cells": [
  {
   "cell_type": "markdown",
   "metadata": {},
   "source": [
    "# This is Jeopardy!"
   ]
  },
  {
   "cell_type": "markdown",
   "metadata": {},
   "source": [
    "#### Overview"
   ]
  },
  {
   "cell_type": "markdown",
   "metadata": {},
   "source": [
    "This project is slightly different than others you have encountered thus far. Instead of a step-by-step tutorial, this project contains a series of open-ended requirements which describe the project you'll be building. There are many possible ways to correctly fulfill all of these requirements, and you should expect to use the internet, Codecademy, and/or other resources when you encounter a problem that you cannot easily solve."
   ]
  },
  {
   "cell_type": "markdown",
   "metadata": {},
   "source": [
    "#### Project Goals"
   ]
  },
  {
   "cell_type": "markdown",
   "metadata": {},
   "source": [
    "You will work to write several functions that investigate a dataset of _Jeopardy!_ questions and answers. Filter the dataset for topics that you're interested in, compute the average difficulty of those questions, and train to become the next Jeopardy champion!"
   ]
  },
  {
   "cell_type": "markdown",
   "metadata": {},
   "source": [
    "## Prerequisites"
   ]
  },
  {
   "cell_type": "markdown",
   "metadata": {},
   "source": [
    "In order to complete this project, you should have completed the Pandas lessons in the <a href=\"https://www.codecademy.com/learn/paths/analyze-data-with-python\">Analyze Data with Python Skill Path</a>. You can also find those lessons in the <a href=\"https://www.codecademy.com/learn/data-processing-pandas\">Data Analysis with Pandas course</a> or the <a href=\"https://www.codecademy.com/learn/paths/data-science/\">Data Scientist Career Path</a>.\n",
    "\n",
    "Finally, the <a href=\"https://www.codecademy.com/learn/practical-data-cleaning\">Practical Data Cleaning</a> course may also be helpful."
   ]
  },
  {
   "cell_type": "markdown",
   "metadata": {},
   "source": [
    "## Project Requirements"
   ]
  },
  {
   "cell_type": "markdown",
   "metadata": {},
   "source": [
    "1. We've provided a csv file containing data about the game show _Jeopardy!_ in a file named `jeopardy.csv`. Load the data into a DataFrame and investigate its contents. Try to print out specific columns.\n",
    "\n",
    "   Note that in order to make this project as \"real-world\" as possible, we haven't modified the data at all - we're giving it to you exactly how we found it. As a result, this data isn't as \"clean\" as the datasets you normally find on Codecademy. More specifically, there's something odd about the column names. After you figure out the problem with the column names, you may want to rename them to make your life easier for the rest of the project.\n",
    "   \n",
    "   In order to display the full contents of a column, we've added this line of code for you:\n",
    "   \n",
    "   ```py\n",
    "   pd.set_option('display.max_colwidth', None)\n",
    "   ```"
   ]
  },
  {
   "cell_type": "code",
   "execution_count": 1,
   "metadata": {},
   "outputs": [
    {
     "data": {
      "text/html": [
       "<div>\n",
       "<style scoped>\n",
       "    .dataframe tbody tr th:only-of-type {\n",
       "        vertical-align: middle;\n",
       "    }\n",
       "\n",
       "    .dataframe tbody tr th {\n",
       "        vertical-align: top;\n",
       "    }\n",
       "\n",
       "    .dataframe thead th {\n",
       "        text-align: right;\n",
       "    }\n",
       "</style>\n",
       "<table border=\"1\" class=\"dataframe\">\n",
       "  <thead>\n",
       "    <tr style=\"text-align: right;\">\n",
       "      <th></th>\n",
       "      <th>Show Number</th>\n",
       "      <th>Air Date</th>\n",
       "      <th>Round</th>\n",
       "      <th>Category</th>\n",
       "      <th>Value</th>\n",
       "      <th>Question</th>\n",
       "      <th>Answer</th>\n",
       "    </tr>\n",
       "  </thead>\n",
       "  <tbody>\n",
       "    <tr>\n",
       "      <th>0</th>\n",
       "      <td>4680</td>\n",
       "      <td>2004-12-31</td>\n",
       "      <td>Jeopardy!</td>\n",
       "      <td>HISTORY</td>\n",
       "      <td>$200</td>\n",
       "      <td>For the last 8 years of his life, Galileo was under house arrest for espousing this man's theory</td>\n",
       "      <td>Copernicus</td>\n",
       "    </tr>\n",
       "    <tr>\n",
       "      <th>1</th>\n",
       "      <td>4680</td>\n",
       "      <td>2004-12-31</td>\n",
       "      <td>Jeopardy!</td>\n",
       "      <td>ESPN's TOP 10 ALL-TIME ATHLETES</td>\n",
       "      <td>$200</td>\n",
       "      <td>No. 2: 1912 Olympian; football star at Carlisle Indian School; 6 MLB seasons with the Reds, Giants &amp; Braves</td>\n",
       "      <td>Jim Thorpe</td>\n",
       "    </tr>\n",
       "    <tr>\n",
       "      <th>2</th>\n",
       "      <td>4680</td>\n",
       "      <td>2004-12-31</td>\n",
       "      <td>Jeopardy!</td>\n",
       "      <td>EVERYBODY TALKS ABOUT IT...</td>\n",
       "      <td>$200</td>\n",
       "      <td>The city of Yuma in this state has a record average of 4,055 hours of sunshine each year</td>\n",
       "      <td>Arizona</td>\n",
       "    </tr>\n",
       "    <tr>\n",
       "      <th>3</th>\n",
       "      <td>4680</td>\n",
       "      <td>2004-12-31</td>\n",
       "      <td>Jeopardy!</td>\n",
       "      <td>THE COMPANY LINE</td>\n",
       "      <td>$200</td>\n",
       "      <td>In 1963, live on \"The Art Linkletter Show\", this company served its billionth burger</td>\n",
       "      <td>McDonald's</td>\n",
       "    </tr>\n",
       "    <tr>\n",
       "      <th>4</th>\n",
       "      <td>4680</td>\n",
       "      <td>2004-12-31</td>\n",
       "      <td>Jeopardy!</td>\n",
       "      <td>EPITAPHS &amp; TRIBUTES</td>\n",
       "      <td>$200</td>\n",
       "      <td>Signer of the Dec. of Indep., framer of the Constitution of Mass., second President of the United States</td>\n",
       "      <td>John Adams</td>\n",
       "    </tr>\n",
       "  </tbody>\n",
       "</table>\n",
       "</div>"
      ],
      "text/plain": [
       "   Show Number    Air Date      Round                         Category  Value  \\\n",
       "0         4680  2004-12-31  Jeopardy!                          HISTORY   $200   \n",
       "1         4680  2004-12-31  Jeopardy!  ESPN's TOP 10 ALL-TIME ATHLETES   $200   \n",
       "2         4680  2004-12-31  Jeopardy!      EVERYBODY TALKS ABOUT IT...   $200   \n",
       "3         4680  2004-12-31  Jeopardy!                 THE COMPANY LINE   $200   \n",
       "4         4680  2004-12-31  Jeopardy!              EPITAPHS & TRIBUTES   $200   \n",
       "\n",
       "                                                                                                      Question  \\\n",
       "0             For the last 8 years of his life, Galileo was under house arrest for espousing this man's theory   \n",
       "1  No. 2: 1912 Olympian; football star at Carlisle Indian School; 6 MLB seasons with the Reds, Giants & Braves   \n",
       "2                     The city of Yuma in this state has a record average of 4,055 hours of sunshine each year   \n",
       "3                         In 1963, live on \"The Art Linkletter Show\", this company served its billionth burger   \n",
       "4     Signer of the Dec. of Indep., framer of the Constitution of Mass., second President of the United States   \n",
       "\n",
       "       Answer  \n",
       "0  Copernicus  \n",
       "1  Jim Thorpe  \n",
       "2     Arizona  \n",
       "3  McDonald's  \n",
       "4  John Adams  "
      ]
     },
     "execution_count": 1,
     "metadata": {},
     "output_type": "execute_result"
    }
   ],
   "source": [
    "import pandas as pd\n",
    "pd.set_option('display.max_colwidth', None)\n",
    "jeopardy = pd.read_csv('jeopardy.csv')\n",
    "jeopardy.head(5)"
   ]
  },
  {
   "cell_type": "code",
   "execution_count": 2,
   "metadata": {},
   "outputs": [
    {
     "name": "stdout",
     "output_type": "stream",
     "text": [
      "          Show Number    Air Date      Round        Category   Value  \\\n",
      "count   216930.000000      216930     216930          216930  216930   \n",
      "unique            NaN        3640          4           27995     150   \n",
      "top               NaN  1997-05-19  Jeopardy!  BEFORE & AFTER    $400   \n",
      "freq              NaN          62     107384             547   42244   \n",
      "mean      4264.238519         NaN        NaN             NaN     NaN   \n",
      "std       1386.296335         NaN        NaN             NaN     NaN   \n",
      "min          1.000000         NaN        NaN             NaN     NaN   \n",
      "25%       3349.000000         NaN        NaN             NaN     NaN   \n",
      "50%       4490.000000         NaN        NaN             NaN     NaN   \n",
      "75%       5393.000000         NaN        NaN             NaN     NaN   \n",
      "max       6300.000000         NaN        NaN             NaN     NaN   \n",
      "\n",
      "            Question  Answer  \n",
      "count         216930  216928  \n",
      "unique        216124   88268  \n",
      "top     [audio clue]   China  \n",
      "freq              17     216  \n",
      "mean             NaN     NaN  \n",
      "std              NaN     NaN  \n",
      "min              NaN     NaN  \n",
      "25%              NaN     NaN  \n",
      "50%              NaN     NaN  \n",
      "75%              NaN     NaN  \n",
      "max              NaN     NaN  \n"
     ]
    }
   ],
   "source": [
    "print(jeopardy.describe(include='all'))"
   ]
  },
  {
   "cell_type": "markdown",
   "metadata": {},
   "source": [
    "2. Write a function that filters the dataset for questions that contains all of the words in a list of words. For example, when the list `[\"King\", \"England\"]` was passed to our function, the function returned a DataFrame of 49 rows. Every row had the strings `\"King\"` and `\"England\"` somewhere in its `\" Question\"`.\n",
    "\n",
    "   Test your function by printing out the column containing the question of each row of the dataset."
   ]
  },
  {
   "cell_type": "code",
   "execution_count": 3,
   "metadata": {},
   "outputs": [
    {
     "name": "stdout",
     "output_type": "stream",
     "text": [
      "Index(['Show Number', ' Air Date', ' Round', ' Category', ' Value',\n",
      "       ' Question', ' Answer'],\n",
      "      dtype='object')\n"
     ]
    }
   ],
   "source": [
    "print(jeopardy.columns)"
   ]
  },
  {
   "cell_type": "code",
   "execution_count": 4,
   "metadata": {},
   "outputs": [
    {
     "name": "stdout",
     "output_type": "stream",
     "text": [
      "Index(['Show_Number', 'Air_Date', 'Round', 'Category', 'Value', 'Question',\n",
      "       'Answer'],\n",
      "      dtype='object')\n"
     ]
    }
   ],
   "source": [
    "jeopardy = jeopardy.rename(columns={'Show Number': 'Show_Number', ' Air Date': 'Air_Date', ' Round': 'Round',\\\n",
    "                                    ' Category': 'Category', ' Value': 'Value', ' Question': 'Question', ' Answer': 'Answer'})\n",
    "print(jeopardy.columns)"
   ]
  },
  {
   "cell_type": "code",
   "execution_count": 5,
   "metadata": {},
   "outputs": [],
   "source": [
    "def search_words(data, wordlist):\n",
    "#     wordlist_l = [word.lower() for word in wordlist]\n",
    "#     data['Question_low'] = data.Question.apply(str.lower)\n",
    "    filtered_questions = data.loc[data.Question.apply(lambda question: all(word in question for word in wordlist))]    \n",
    "    return filtered_questions                "
   ]
  },
  {
   "cell_type": "code",
   "execution_count": 6,
   "metadata": {},
   "outputs": [
    {
     "name": "stdout",
     "output_type": "stream",
     "text": [
      "49\n"
     ]
    },
    {
     "data": {
      "text/html": [
       "<div>\n",
       "<style scoped>\n",
       "    .dataframe tbody tr th:only-of-type {\n",
       "        vertical-align: middle;\n",
       "    }\n",
       "\n",
       "    .dataframe tbody tr th {\n",
       "        vertical-align: top;\n",
       "    }\n",
       "\n",
       "    .dataframe thead th {\n",
       "        text-align: right;\n",
       "    }\n",
       "</style>\n",
       "<table border=\"1\" class=\"dataframe\">\n",
       "  <thead>\n",
       "    <tr style=\"text-align: right;\">\n",
       "      <th></th>\n",
       "      <th>Show_Number</th>\n",
       "      <th>Air_Date</th>\n",
       "      <th>Round</th>\n",
       "      <th>Category</th>\n",
       "      <th>Value</th>\n",
       "      <th>Question</th>\n",
       "      <th>Answer</th>\n",
       "    </tr>\n",
       "  </thead>\n",
       "  <tbody>\n",
       "    <tr>\n",
       "      <th>4953</th>\n",
       "      <td>3003</td>\n",
       "      <td>1997-09-24</td>\n",
       "      <td>Double Jeopardy!</td>\n",
       "      <td>\"PH\"UN WORDS</td>\n",
       "      <td>$200</td>\n",
       "      <td>Both England's King George V &amp; FDR put their stamp of approval on this \"King of Hobbies\"</td>\n",
       "      <td>Philately (stamp collecting)</td>\n",
       "    </tr>\n",
       "    <tr>\n",
       "      <th>14912</th>\n",
       "      <td>2832</td>\n",
       "      <td>1996-12-17</td>\n",
       "      <td>Jeopardy!</td>\n",
       "      <td>WORLD HISTORY</td>\n",
       "      <td>$100</td>\n",
       "      <td>This country's King Louis IV was nicknamed \"Louis From Overseas\" because he was raised in England</td>\n",
       "      <td>France</td>\n",
       "    </tr>\n",
       "    <tr>\n",
       "      <th>21511</th>\n",
       "      <td>4650</td>\n",
       "      <td>2004-11-19</td>\n",
       "      <td>Jeopardy!</td>\n",
       "      <td>THE \"O.C.\"</td>\n",
       "      <td>$1000</td>\n",
       "      <td>this man and his son ruled England following the execution of King Charles I</td>\n",
       "      <td>Oliver Cromwell</td>\n",
       "    </tr>\n",
       "    <tr>\n",
       "      <th>23810</th>\n",
       "      <td>4862</td>\n",
       "      <td>2005-11-01</td>\n",
       "      <td>Jeopardy!</td>\n",
       "      <td>NAME THE YEAR</td>\n",
       "      <td>$400</td>\n",
       "      <td>William the Conqueror was crowned King of England in Westminster Abbey on Christmas Day in this year</td>\n",
       "      <td>1066</td>\n",
       "    </tr>\n",
       "    <tr>\n",
       "      <th>27555</th>\n",
       "      <td>1799</td>\n",
       "      <td>1992-05-28</td>\n",
       "      <td>Double Jeopardy!</td>\n",
       "      <td>HISTORIC IN-LAWS</td>\n",
       "      <td>$600</td>\n",
       "      <td>This member of the Medici family was the mother-in-law of England's King Charles I</td>\n",
       "      <td>Marie de Medici</td>\n",
       "    </tr>\n",
       "  </tbody>\n",
       "</table>\n",
       "</div>"
      ],
      "text/plain": [
       "       Show_Number    Air_Date             Round          Category  Value  \\\n",
       "4953          3003  1997-09-24  Double Jeopardy!      \"PH\"UN WORDS   $200   \n",
       "14912         2832  1996-12-17         Jeopardy!     WORLD HISTORY   $100   \n",
       "21511         4650  2004-11-19         Jeopardy!        THE \"O.C.\"  $1000   \n",
       "23810         4862  2005-11-01         Jeopardy!     NAME THE YEAR   $400   \n",
       "27555         1799  1992-05-28  Double Jeopardy!  HISTORIC IN-LAWS   $600   \n",
       "\n",
       "                                                                                                   Question  \\\n",
       "4953               Both England's King George V & FDR put their stamp of approval on this \"King of Hobbies\"   \n",
       "14912     This country's King Louis IV was nicknamed \"Louis From Overseas\" because he was raised in England   \n",
       "21511                          this man and his son ruled England following the execution of King Charles I   \n",
       "23810  William the Conqueror was crowned King of England in Westminster Abbey on Christmas Day in this year   \n",
       "27555                    This member of the Medici family was the mother-in-law of England's King Charles I   \n",
       "\n",
       "                             Answer  \n",
       "4953   Philately (stamp collecting)  \n",
       "14912                        France  \n",
       "21511               Oliver Cromwell  \n",
       "23810                          1066  \n",
       "27555               Marie de Medici  "
      ]
     },
     "execution_count": 6,
     "metadata": {},
     "output_type": "execute_result"
    }
   ],
   "source": [
    "filtred_1 = search_words(jeopardy, [\"King\", \"England\"])\n",
    "print(len(filtred_1))\n",
    "filtred_1.head()"
   ]
  },
  {
   "cell_type": "markdown",
   "metadata": {},
   "source": [
    "3. Test your original function with a few different sets of words to try to find some ways your function breaks. Edit your function so it is more robust.\n",
    "\n",
    "   For example, think about capitalization. We probably want to find questions that contain the word `\"King\"` or `\"king\"`.\n",
    "   \n",
    "   You may also want to check to make sure you don't find rows that contain substrings of your given words. For example, our function found a question that didn't contain the word `\"king\"`, however it did contain the word `\"viking\"` &mdash; it found the `\"king\"` inside `\"viking\"`. Note that this also comes with some drawbacks &mdash; you would no longer find questions that contained words like `\"England's\"`."
   ]
  },
  {
   "cell_type": "code",
   "execution_count": 7,
   "metadata": {},
   "outputs": [],
   "source": [
    "def search_words_v2(data, wordlist):\n",
    "    wordlist_l = [word.lower() for word in wordlist]\n",
    "    data['Question_low'] = data.Question.apply(str.lower)\n",
    "    filtered_questions = data.loc[data.Question_low.apply(lambda question: all(word in question for word in wordlist_l))]    \n",
    "    return filtered_questions       "
   ]
  },
  {
   "cell_type": "code",
   "execution_count": 8,
   "metadata": {},
   "outputs": [
    {
     "name": "stdout",
     "output_type": "stream",
     "text": [
      "152\n"
     ]
    },
    {
     "data": {
      "text/html": [
       "<div>\n",
       "<style scoped>\n",
       "    .dataframe tbody tr th:only-of-type {\n",
       "        vertical-align: middle;\n",
       "    }\n",
       "\n",
       "    .dataframe tbody tr th {\n",
       "        vertical-align: top;\n",
       "    }\n",
       "\n",
       "    .dataframe thead th {\n",
       "        text-align: right;\n",
       "    }\n",
       "</style>\n",
       "<table border=\"1\" class=\"dataframe\">\n",
       "  <thead>\n",
       "    <tr style=\"text-align: right;\">\n",
       "      <th></th>\n",
       "      <th>Show_Number</th>\n",
       "      <th>Air_Date</th>\n",
       "      <th>Round</th>\n",
       "      <th>Category</th>\n",
       "      <th>Value</th>\n",
       "      <th>Question</th>\n",
       "      <th>Answer</th>\n",
       "      <th>Question_low</th>\n",
       "    </tr>\n",
       "  </thead>\n",
       "  <tbody>\n",
       "    <tr>\n",
       "      <th>4953</th>\n",
       "      <td>3003</td>\n",
       "      <td>1997-09-24</td>\n",
       "      <td>Double Jeopardy!</td>\n",
       "      <td>\"PH\"UN WORDS</td>\n",
       "      <td>$200</td>\n",
       "      <td>Both England's King George V &amp; FDR put their stamp of approval on this \"King of Hobbies\"</td>\n",
       "      <td>Philately (stamp collecting)</td>\n",
       "      <td>both england's king george v &amp; fdr put their stamp of approval on this \"king of hobbies\"</td>\n",
       "    </tr>\n",
       "    <tr>\n",
       "      <th>6337</th>\n",
       "      <td>3517</td>\n",
       "      <td>1999-12-14</td>\n",
       "      <td>Double Jeopardy!</td>\n",
       "      <td>Y1K</td>\n",
       "      <td>$800</td>\n",
       "      <td>In retaliation for Viking raids, this \"Unready\" king of England attacks Norse areas of the Isle of Man</td>\n",
       "      <td>Ethelred</td>\n",
       "      <td>in retaliation for viking raids, this \"unready\" king of england attacks norse areas of the isle of man</td>\n",
       "    </tr>\n",
       "    <tr>\n",
       "      <th>9191</th>\n",
       "      <td>3907</td>\n",
       "      <td>2001-09-04</td>\n",
       "      <td>Double Jeopardy!</td>\n",
       "      <td>WON THE BATTLE</td>\n",
       "      <td>$800</td>\n",
       "      <td>This king of England beat the odds to trounce the French in the 1415 Battle of Agincourt</td>\n",
       "      <td>Henry V</td>\n",
       "      <td>this king of england beat the odds to trounce the french in the 1415 battle of agincourt</td>\n",
       "    </tr>\n",
       "    <tr>\n",
       "      <th>11710</th>\n",
       "      <td>2903</td>\n",
       "      <td>1997-03-26</td>\n",
       "      <td>Double Jeopardy!</td>\n",
       "      <td>BRITISH MONARCHS</td>\n",
       "      <td>$600</td>\n",
       "      <td>This Scotsman, the first Stuart king of England, was called \"The Wisest Fool in Christendom\"</td>\n",
       "      <td>James I</td>\n",
       "      <td>this scotsman, the first stuart king of england, was called \"the wisest fool in christendom\"</td>\n",
       "    </tr>\n",
       "    <tr>\n",
       "      <th>13454</th>\n",
       "      <td>4726</td>\n",
       "      <td>2005-03-07</td>\n",
       "      <td>Jeopardy!</td>\n",
       "      <td>A NUMBER FROM 1 TO 10</td>\n",
       "      <td>$1000</td>\n",
       "      <td>It's the number that followed the last king of England named William</td>\n",
       "      <td>4</td>\n",
       "      <td>it's the number that followed the last king of england named william</td>\n",
       "    </tr>\n",
       "  </tbody>\n",
       "</table>\n",
       "</div>"
      ],
      "text/plain": [
       "       Show_Number    Air_Date             Round               Category  \\\n",
       "4953          3003  1997-09-24  Double Jeopardy!           \"PH\"UN WORDS   \n",
       "6337          3517  1999-12-14  Double Jeopardy!                    Y1K   \n",
       "9191          3907  2001-09-04  Double Jeopardy!         WON THE BATTLE   \n",
       "11710         2903  1997-03-26  Double Jeopardy!       BRITISH MONARCHS   \n",
       "13454         4726  2005-03-07         Jeopardy!  A NUMBER FROM 1 TO 10   \n",
       "\n",
       "       Value  \\\n",
       "4953    $200   \n",
       "6337    $800   \n",
       "9191    $800   \n",
       "11710   $600   \n",
       "13454  $1000   \n",
       "\n",
       "                                                                                                     Question  \\\n",
       "4953                 Both England's King George V & FDR put their stamp of approval on this \"King of Hobbies\"   \n",
       "6337   In retaliation for Viking raids, this \"Unready\" king of England attacks Norse areas of the Isle of Man   \n",
       "9191                 This king of England beat the odds to trounce the French in the 1415 Battle of Agincourt   \n",
       "11710            This Scotsman, the first Stuart king of England, was called \"The Wisest Fool in Christendom\"   \n",
       "13454                                    It's the number that followed the last king of England named William   \n",
       "\n",
       "                             Answer  \\\n",
       "4953   Philately (stamp collecting)   \n",
       "6337                       Ethelred   \n",
       "9191                        Henry V   \n",
       "11710                       James I   \n",
       "13454                             4   \n",
       "\n",
       "                                                                                                 Question_low  \n",
       "4953                 both england's king george v & fdr put their stamp of approval on this \"king of hobbies\"  \n",
       "6337   in retaliation for viking raids, this \"unready\" king of england attacks norse areas of the isle of man  \n",
       "9191                 this king of england beat the odds to trounce the french in the 1415 battle of agincourt  \n",
       "11710            this scotsman, the first stuart king of england, was called \"the wisest fool in christendom\"  \n",
       "13454                                    it's the number that followed the last king of england named william  "
      ]
     },
     "execution_count": 8,
     "metadata": {},
     "output_type": "execute_result"
    }
   ],
   "source": [
    "filtred_2 = search_words_v2(jeopardy, [\"King\", \"England\"])\n",
    "print(len(filtred_2))\n",
    "filtred_2.head()"
   ]
  },
  {
   "cell_type": "markdown",
   "metadata": {},
   "source": [
    "4. We may want to eventually compute aggregate statistics, like `.mean()` on the `\" Value\"` column. But right now, the values in that column are strings. Convert the`\" Value\"` column to floats. If you'd like to, you can create a new column with float values.\n",
    "\n",
    "   Now that you can filter the dataset of question, use your new column that contains the float values of each question to find the \"difficulty\" of certain topics. For example, what is the average value of questions that contain the word `\"King\"`?\n",
    "   \n",
    "   Make sure to use the dataset that contains the float values as the dataset you use in your filtering function."
   ]
  },
  {
   "cell_type": "code",
   "execution_count": 9,
   "metadata": {},
   "outputs": [
    {
     "name": "stdout",
     "output_type": "stream",
     "text": [
      "Show_Number      int64\n",
      "Air_Date        object\n",
      "Round           object\n",
      "Category        object\n",
      "Value           object\n",
      "Question        object\n",
      "Answer          object\n",
      "Question_low    object\n",
      "dtype: object\n"
     ]
    }
   ],
   "source": [
    "print(jeopardy.dtypes)"
   ]
  },
  {
   "cell_type": "code",
   "execution_count": 10,
   "metadata": {},
   "outputs": [
    {
     "name": "stdout",
     "output_type": "stream",
     "text": [
      "Show_Number       int64\n",
      "Air_Date         object\n",
      "Round            object\n",
      "Category         object\n",
      "Value            object\n",
      "Question         object\n",
      "Answer           object\n",
      "Question_low     object\n",
      "Value_USD       float64\n",
      "dtype: object\n"
     ]
    }
   ],
   "source": [
    "jeopardy.Value.astype('string')\n",
    "jeopardy['Value_USD'] = [float(value[1:].replace(',','')) if value!='None' else 0 for value in jeopardy.Value]\n",
    "# print(jeopardy.Value_USD.value_counts())\n",
    "# jeopardy.head()\n",
    "print(jeopardy.dtypes)"
   ]
  },
  {
   "cell_type": "markdown",
   "metadata": {},
   "source": [
    "5. Write a function that returns the count of unique answers to all of the questions in a dataset. For example, after filtering the entire dataset to only questions containing the word `\"King\"`, we could then find all of the unique answers to those questions. The answer \"Henry VIII\" appeared 55 times and was the most common answer."
   ]
  },
  {
   "cell_type": "code",
   "execution_count": 11,
   "metadata": {},
   "outputs": [],
   "source": [
    "def unique_answ(data):\n",
    "    return data.Answer.value_counts()"
   ]
  },
  {
   "cell_type": "code",
   "execution_count": 12,
   "metadata": {},
   "outputs": [
    {
     "name": "stdout",
     "output_type": "stream",
     "text": [
      "Henry VIII                   55\n",
      "Solomon                      35\n",
      "Richard III                  33\n",
      "Louis XIV                    31\n",
      "David                        30\n",
      "                             ..\n",
      "cardiac (in card I acted)     1\n",
      "Henderson                     1\n",
      "Computer                      1\n",
      "Indians                       1\n",
      "work                          1\n",
      "Name: Answer, Length: 5268, dtype: int64\n"
     ]
    }
   ],
   "source": [
    "filtred_3 = search_words_v2(jeopardy, [\"King\"])\n",
    "print(unique_answ(filtred_3))"
   ]
  },
  {
   "cell_type": "markdown",
   "metadata": {},
   "source": [
    "6. Explore from here! This is an incredibly rich dataset, and there are so many interesting things to discover. There are a few columns that we haven't even started looking at yet. Here are some ideas on ways to continue working with this data:\n",
    "\n",
    " * Investigate the ways in which questions change over time by filtering by the date. How many questions from the 90s use the word `\"Computer\"` compared to questions from the 2000s?\n",
    " * Is there a connection between the round and the category? Are you more likely to find certain categories, like `\"Literature\"` in Single Jeopardy or Double Jeopardy?\n",
    " * Build a system to quiz yourself. Grab random questions, and use the <a href=\"https://docs.python.org/3/library/functions.html#input\">input</a> function to get a response from the user. Check to see if that response was right or wrong."
   ]
  },
  {
   "cell_type": "code",
   "execution_count": 13,
   "metadata": {},
   "outputs": [
    {
     "name": "stdout",
     "output_type": "stream",
     "text": [
      "2012-01-27\n",
      "1984-09-10\n",
      "2000s    268\n",
      "1990s     98\n",
      "2010s     59\n",
      "1980s      6\n",
      "Name: Decade, dtype: int64\n"
     ]
    }
   ],
   "source": [
    "print(jeopardy.Air_Date.max())\n",
    "print(jeopardy.Air_Date.min())\n",
    "jeopardy['Decade'] = jeopardy.Air_Date.apply(lambda row: '1980s' if row[0:3]=='198'\n",
    "                                           else '1990s' if row[0:3]=='199'\n",
    "                                           else '2000s' if row[0:3]=='200'\n",
    "                                           else '2010s')\n",
    "# print(jeopardy.Decade.value_counts())\n",
    "\n",
    "filter_4 = search_words_v2(jeopardy, ['Computer'])\n",
    "print(filter_4.Decade.value_counts())"
   ]
  },
  {
   "cell_type": "code",
   "execution_count": 14,
   "metadata": {},
   "outputs": [
    {
     "data": {
      "text/plain": [
       "Double Jeopardy!    381\n",
       "Jeopardy!           105\n",
       "Final Jeopardy!      10\n",
       "Name: Round, dtype: int64"
      ]
     },
     "execution_count": 14,
     "metadata": {},
     "output_type": "execute_result"
    }
   ],
   "source": [
    "jeopardy.Round[jeopardy.Category == 'LITERATURE'].value_counts()"
   ]
  },
  {
   "cell_type": "code",
   "execution_count": 15,
   "metadata": {},
   "outputs": [
    {
     "name": "stdout",
     "output_type": "stream",
     "text": [
      "Miriam Rothschild discovered that a rubbery protein called resilin stored in the hind legs gives fleas this amazing ability\n",
      "jumping\n",
      "\n",
      "\n",
      "Please, enter your answer: \n",
      "None\n",
      "The answer is wrong :( . The correct answer is: jumping\n"
     ]
    }
   ],
   "source": [
    "import random as rd\n",
    "index_q = rd.randint(0, len(jeopardy))\n",
    "print(jeopardy.Question[index_q])\n",
    "print(jeopardy.Answer[index_q])\n",
    "print('\\n')\n",
    "print('Please, enter your answer: ')\n",
    "answer = input()\n",
    "if answer == jeopardy.Answer[index_q]:\n",
    "    print('Congrats! This is correct')\n",
    "else:\n",
    "    print('The answer is wrong :( . The correct answer is: ' + str(jeopardy.Answer[index_q]))"
   ]
  },
  {
   "cell_type": "markdown",
   "metadata": {},
   "source": [
    "## Solution"
   ]
  },
  {
   "cell_type": "markdown",
   "metadata": {},
   "source": [
    "7. Compare your program to our <a href=\"https://content.codecademy.com/PRO/independent-practice-projects/jeopardy/jeopardy_solution.zip\">sample solution code</a> - remember, that your program might look different from ours (and probably will) and that's okay!"
   ]
  },
  {
   "cell_type": "markdown",
   "metadata": {},
   "source": [
    "8. Great work! Visit <a href=\"https://discuss.codecademy.com/t/this-is-jeopardy-challenge-project-python-pandas/462365\">our forums</a> to compare your project to our sample solution code. You can also learn how to host your own solution on GitHub so you can share it with other learners! Your solution might look different from ours, and that's okay! There are multiple ways to solve these projects, and you'll learn more by seeing others' code."
   ]
  }
 ],
 "metadata": {
  "kernelspec": {
   "display_name": "Python 3 (ipykernel)",
   "language": "python",
   "name": "python3"
  },
  "language_info": {
   "codemirror_mode": {
    "name": "ipython",
    "version": 3
   },
   "file_extension": ".py",
   "mimetype": "text/x-python",
   "name": "python",
   "nbconvert_exporter": "python",
   "pygments_lexer": "ipython3",
   "version": "3.10.9"
  }
 },
 "nbformat": 4,
 "nbformat_minor": 2
}
